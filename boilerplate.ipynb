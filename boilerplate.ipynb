{
 "cells": [
  {
   "cell_type": "markdown",
   "metadata": {},
   "source": [
    "This is the minimum amount of code I need to run to fit a model. If I was building a framework I might make this simpler, but for research purposes it's not worth simplifying any further. The train_model function probably needs the most cleanup and even then most of the icky stuff is my progression tracking."
   ]
  },
  {
   "cell_type": "code",
   "execution_count": null,
   "metadata": {},
   "outputs": [],
   "source": [
    "%reload_ext autoreload\n",
    "%autoreload 2\n",
    "%matplotlib inline\n",
    "\n",
    "import numpy as np\n",
    "import matplotlib.pyplot as plt\n",
    "# ^---not strictly necessary, but what data scientist doesn't automatically import np and plt\n",
    "import torch\n",
    "import torch.nn as nn\n",
    "from kural_core.models import *\n",
    "from kural_core.data_processing import *\n",
    "from kural_core.train_model import train_model\n",
    "\n",
    "PATH = r'D:\\Code\\kural_work\\\\'"
   ]
  },
  {
   "cell_type": "code",
   "execution_count": null,
   "metadata": {},
   "outputs": [],
   "source": [
    "ds = BoundingLandmarksDataset(crop_img_tensor,xy_tensor) ## see kural_core/data_processing.py for constructing datasets\n",
    "train_idx, val_idx = RandomIndicesForKFoldValidation(len(ds), 0, K=5, rand_seed=42, nORp=1) ## see kural_core/data_processing.py\n",
    "# I have never actually used the above function for k-fold validation, merely for creating a single validation set.\n",
    "bs = 9 # batch size. You can adjust this based on GPU memory\n",
    "train_dl = torch.utils.data.DataLoader(ds,batch_size=bs, sampler=SubsetSampler(train_idx, shuffle=True))\n",
    "val_dl = torch.utils.data.DataLoader(ds,batch_size=5*bs, sampler=SubsetSampler(val_idx))\n",
    "model = BoundingPointsModel().cuda() ## see kural_core/models.py\n",
    "opt = optim.Adam(model.parameters(),)\n",
    "train_loss = []\n",
    "val_loss = []\n",
    "accuracy = [] # only functions for classification problems\n",
    "criterion = nn.MSELoss()"
   ]
  },
  {
   "cell_type": "code",
   "execution_count": null,
   "metadata": {},
   "outputs": [],
   "source": [
    "# see kural_core/train_model.py\n",
    "model, _tl, _vl, _acc = train_model(model, train_dl, val_dl, opt, criterion, lr_start=1e-4, lr_end=1, epochs=1000, cycles=1, is_classification=True, lr_cycle='sin')\n",
    "train_loss += _tl\n",
    "val_loss += _vl\n",
    "accuracy += _acc # remember to take this out for non-classification problems\n",
    "torch.save(model.state_dict(), r'D:\\Code\\kural_work\\actin_classifier_model.pth')"
   ]
  }
 ],
 "metadata": {
  "kernelspec": {
   "display_name": "Python 3",
   "language": "python",
   "name": "python3"
  },
  "language_info": {
   "codemirror_mode": {
    "name": "ipython",
    "version": 3
   },
   "file_extension": ".py",
   "mimetype": "text/x-python",
   "name": "python",
   "nbconvert_exporter": "python",
   "pygments_lexer": "ipython3",
   "version": "3.7.3"
  }
 },
 "nbformat": 4,
 "nbformat_minor": 2
}
