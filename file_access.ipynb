{
 "cells": [
  {
   "cell_type": "markdown",
   "metadata": {},
   "source": [
    "This was about building a folder full of images because it seemed like that's what pytorch is best at working with. This might still be a useful idea when I get to growing my dataset even further, but for now and it's specific form here it is a waste of space. I have now found a way to incorporate the image transformations into the dataset and it seems to work plenty fast enough now despite the fact that it seemed slow before. So even I do end up storing a bunch of small image files on disk I can do transformations in the model."
   ]
  },
  {
   "cell_type": "code",
   "execution_count": 1,
   "metadata": {},
   "outputs": [],
   "source": [
    "%reload_ext autoreload\n",
    "%autoreload 2\n",
    "%matplotlib inline\n",
    "\n",
    "from PIL import Image\n",
    "from skimage.measure import block_reduce\n",
    "import numpy as np\n",
    "import matplotlib.pyplot as plt\n",
    "import os\n",
    "import pickle"
   ]
  },
  {
   "cell_type": "code",
   "execution_count": 6,
   "metadata": {},
   "outputs": [],
   "source": [
    "PATH = r'D:\\Code\\kural_work\\movie_generation\\data\\\\'\n",
    "OUT_PATH = r'D:\\Code\\kural_work\\movie_generation\\data\\IMAGES\\\\'\n",
    "files = os.listdir(PATH)"
   ]
  },
  {
   "cell_type": "code",
   "execution_count": 3,
   "metadata": {},
   "outputs": [],
   "source": [
    "nf_list = []\n",
    "for file in files:\n",
    "    if file[-4:] != '.tif': continue\n",
    "    img_ = Image.open(PATH + file)\n",
    "    nf_list.append(img_.n_frames)"
   ]
  },
  {
   "cell_type": "code",
   "execution_count": 6,
   "metadata": {},
   "outputs": [],
   "source": [
    "nf = np.stack(nf_list)"
   ]
  },
  {
   "cell_type": "code",
   "execution_count": 8,
   "metadata": {},
   "outputs": [],
   "source": [
    "nf = np.cumsum(nf)"
   ]
  },
  {
   "cell_type": "code",
   "execution_count": 40,
   "metadata": {},
   "outputs": [
    {
     "data": {
      "text/plain": [
       "array([  400,   701,  1602,  2503,  3404,  4305,  5206,  5349,  5927,\n",
       "        6228,  6697,  7724,  8358,  9259, 10160], dtype=int32)"
      ]
     },
     "execution_count": 40,
     "metadata": {},
     "output_type": "execute_result"
    }
   ],
   "source": [
    "nf"
   ]
  },
  {
   "cell_type": "code",
   "execution_count": 75,
   "metadata": {},
   "outputs": [
    {
     "name": "stdout",
     "output_type": "stream",
     "text": [
      "test\n",
      "       a\n",
      "       b\n"
     ]
    }
   ],
   "source": [
    "print('test\\n\\\n",
    "       a\\n\\\n",
    "       b')"
   ]
  },
  {
   "cell_type": "code",
   "execution_count": 68,
   "metadata": {},
   "outputs": [
    {
     "name": "stdout",
     "output_type": "stream",
     "text": [
      "ab\r",
      "cd\r\n"
     ]
    }
   ],
   "source": [
    "print('ab',end='\\r')\n",
    "print('cd\\r')"
   ]
  },
  {
   "cell_type": "code",
   "execution_count": 39,
   "metadata": {},
   "outputs": [],
   "source": [
    "with open(PATH+'frame_list.pickle','wb') as f:\n",
    "    pickle.dump(nf, f)"
   ]
  },
  {
   "cell_type": "code",
   "execution_count": 156,
   "metadata": {},
   "outputs": [
    {
     "name": "stdout",
     "output_type": "stream",
     "text": [
      "349531 5\n"
     ]
    }
   ],
   "source": [
    "idx  = np.random.choice(range(nf[-1]*8*11))\n",
    "# tmp,*_ = np.histogram(idx,bins=[0]+list(nf*11*8))\n",
    "tmp_list = np.r_[0,nf*11*8]\n",
    "tmp = np.logical_and(idx>tmp_list[:-1], idx<tmp_list[1:])\n",
    "movie = np.nonzero(tmp)\n",
    "print(idx,movie[0][0])"
   ]
  },
  {
   "cell_type": "code",
   "execution_count": 142,
   "metadata": {},
   "outputs": [
    {
     "ename": "ValueError",
     "evalue": "The truth value of an array with more than one element is ambiguous. Use a.any() or a.all()",
     "output_type": "error",
     "traceback": [
      "\u001b[1;31m---------------------------------------------------------------------------\u001b[0m",
      "\u001b[1;31mValueError\u001b[0m                                Traceback (most recent call last)",
      "\u001b[1;32m<ipython-input-142-50a0275f7d78>\u001b[0m in \u001b[0;36m<module>\u001b[1;34m\u001b[0m\n\u001b[1;32m----> 1\u001b[1;33m \u001b[0mtmp_list\u001b[0m\u001b[1;33m>\u001b[0m\u001b[1;36m100\u001b[0m \u001b[1;33m&\u001b[0m \u001b[0mtmp_list\u001b[0m\u001b[1;33m<\u001b[0m\u001b[1;36m100\u001b[0m\u001b[1;33m\u001b[0m\u001b[1;33m\u001b[0m\u001b[0m\n\u001b[0m",
      "\u001b[1;31mValueError\u001b[0m: The truth value of an array with more than one element is ambiguous. Use a.any() or a.all()"
     ]
    }
   ],
   "source": [
    "tmp_list>100 & tmp_list<100"
   ]
  },
  {
   "cell_type": "code",
   "execution_count": 157,
   "metadata": {},
   "outputs": [],
   "source": [
    "test_array = np.random.rand(15)"
   ]
  },
  {
   "cell_type": "code",
   "execution_count": 168,
   "metadata": {},
   "outputs": [
    {
     "data": {
      "text/plain": [
       "(15,)"
      ]
     },
     "execution_count": 168,
     "metadata": {},
     "output_type": "execute_result"
    }
   ],
   "source": [
    "test_array.shape"
   ]
  },
  {
   "cell_type": "code",
   "execution_count": 167,
   "metadata": {},
   "outputs": [
    {
     "name": "stdout",
     "output_type": "stream",
     "text": [
      "108 ms ± 523 µs per loop (mean ± std. dev. of 7 runs, 10 loops each)\n"
     ]
    }
   ],
   "source": [
    "%%timeit\n",
    "for _ in range(10000):\n",
    "#     tmp = np.concatenate(([0],test_array))\n",
    "    tmp = np.insert(test_array,0,0)"
   ]
  },
  {
   "cell_type": "code",
   "execution_count": 80,
   "metadata": {},
   "outputs": [
    {
     "data": {
      "text/plain": [
       "array([ True, False, False])"
      ]
     },
     "execution_count": 80,
     "metadata": {},
     "output_type": "execute_result"
    }
   ],
   "source": [
    "np.asarray([True, False, False]) & np.asarray([True, False, True])"
   ]
  },
  {
   "cell_type": "code",
   "execution_count": 13,
   "metadata": {},
   "outputs": [
    {
     "data": {
      "text/plain": [
       "[0,\n",
       " 35200,\n",
       " 61688,\n",
       " 140976,\n",
       " 220264,\n",
       " 299552,\n",
       " 378840,\n",
       " 458128,\n",
       " 470712,\n",
       " 521576,\n",
       " 548064,\n",
       " 589336,\n",
       " 679712,\n",
       " 735504,\n",
       " 814792,\n",
       " 894080]"
      ]
     },
     "execution_count": 13,
     "metadata": {},
     "output_type": "execute_result"
    }
   ],
   "source": [
    "[0]+list(nf*11*8)"
   ]
  },
  {
   "cell_type": "markdown",
   "metadata": {},
   "source": [
    "I need to consider if it's even worth it to do the mirror and rotation. It probably is as long as I can deal with the data.\n",
    "\n",
    "I also need to consider how to do the zero-to-one normalization<br>Answer: Just scale it for actually min (0) and actual max (2<sup>16</sup> - 1)"
   ]
  },
  {
   "cell_type": "code",
   "execution_count": 54,
   "metadata": {},
   "outputs": [
    {
     "name": "stdout",
     "output_type": "stream",
     "text": [
      "3before_and_after.tif\n",
      "as02_10m_2s_100ms_25p.tif\n",
      "as03_30m_2s_50ms_100p.tif\n",
      "as04_15m_1s_50ms_100p.tif\n",
      "as05_15m_1s_50ms_100p.tif\n",
      "as06_15m_1s_50ms_100p.tif\n",
      "as07_15m_1s_50ms_100p.tif\n",
      "s01_5m_2s_100ms_25p.tif\n",
      "s02_39m_4s_50ms_100p.tif\n",
      "s03_10m_2s_100ms_25p.tif\n",
      "s04_32m_4s_50ms_100p.tif\n",
      "s05_70m_4s_50ms_100p.tif\n",
      "s06_42m_4s_50ms_100p.tif\n",
      "s07_15m_1s_50ms_100p.tif\n",
      "s08_30m_2s_50ms_100p.tif\n"
     ]
    }
   ],
   "source": [
    "crop_width = 128\n",
    "num_angles = 11\n",
    "edge_param = 0.7\n",
    "img = []\n",
    "center_list = []\n",
    "radius_list = []\n",
    "mean_img_list = []\n",
    "tmp_crop_list = []\n",
    "min_max_list = []\n",
    "for file in files:\n",
    "    if file[-4:] != '.tif': continue\n",
    "    print(file)\n",
    "    img_ = Image.open(PATH + file)\n",
    "    nf = img_.n_frames\n",
    "    h = img_.height\n",
    "    w = img_.width\n",
    "    tmp_img = np.zeros((nf,h,w),dtype=np.float)\n",
    "    for f in range(nf):\n",
    "        img_.seek(f)\n",
    "        tmp_img[f,:,:] = np.asarray(list(img_.getdata())).reshape(h,w)\n",
    "    min_max_list.append((np.min(tmp_img), np.max(tmp_img)))\n",
    "    mean_img = np.mean(tmp_img,axis=0)\n",
    "    mean_img_list.append(mean_img)\n",
    "    img_mask = (mean_img>(np.mean(mean_img)+np.std(mean_img))).astype(float)\n",
    "    cy = sum(img_mask.T @ np.arange(h))/np.sum(img_mask)\n",
    "    cx = sum(img_mask   @ np.arange(w))/np.sum(img_mask)\n",
    "    center = (cy, cx)\n",
    "    center_list.append(center)\n",
    "    tmp = np.nonzero(img_mask)\n",
    "    cell_height, cell_width = (max(tmp[i]) - min(tmp[i]) for i in range(2))\n",
    "    cell_radius = np.mean([cell_height,cell_width])/2\n",
    "    radius_list.append(cell_radius)\n",
    "    r = cell_radius - edge_param*crop_width/2\n",
    "    crop_cent = []\n",
    "    for i in range(num_angles):\n",
    "        crop_cent.append((np.int(center[0]+r*np.sin(2*np.pi*i/num_angles)), \n",
    "                          np.int(center[1]+r*np.cos(2*np.pi*i/num_angles))))\n",
    "    for t, l in crop_cent:\n",
    "        for mirror in iter([False,True]):\n",
    "            for k in range(4):\n",
    "                for f in range(nf):\n",
    "                    tmp_crop = tmp_img[f,t-crop_width//2:t+crop_width//2,l-crop_width//2:l+crop_width//2]\n",
    "                    if mirror: tmp_crop = tmp_crop.T\n",
    "                    img.append(block_reduce(np.rot90(tmp_crop,k=k), (8,8), np.max))\n",
    "    tmp_crop_list.append(tmp_crop)\n",
    "print('Done')"
   ]
  },
  {
   "cell_type": "code",
   "execution_count": 11,
   "metadata": {},
   "outputs": [
    {
     "name": "stdout",
     "output_type": "stream",
     "text": [
      "3before_and_after.tif ... Done\n",
      "as02_10m_2s_100ms_25p.tif ... Done\n",
      "as03_30m_2s_50ms_100p.tif ... Done\n",
      "as04_15m_1s_50ms_100p.tif ... Done\n",
      "as05_15m_1s_50ms_100p.tif ... Done\n",
      "as06_15m_1s_50ms_100p.tif ... Done\n",
      "as07_15m_1s_50ms_100p.tif ... Done\n",
      "s01_5m_2s_100ms_25p.tif ... Done\n",
      "s02_39m_4s_50ms_100p.tif ... Done\n",
      "s03_10m_2s_100ms_25p.tif ... Done\n",
      "s04_32m_4s_50ms_100p.tif ... Done\n",
      "s05_70m_4s_50ms_100p.tif ... Done\n",
      "s06_42m_4s_50ms_100p.tif ... Done\n",
      "s07_15m_1s_50ms_100p.tif ... Done\n",
      "s08_30m_2s_50ms_100p.tif ... Done\n"
     ]
    }
   ],
   "source": [
    "crop_width = 128\n",
    "num_angles = 11\n",
    "edge_param = 0.7\n",
    "img = []\n",
    "center_list = []\n",
    "radius_list = []\n",
    "mean_img_list = []\n",
    "min_max_list = []\n",
    "out_file_counter = 1\n",
    "for file in files:\n",
    "    if file[-4:] != '.tif': continue\n",
    "    print(file, end = ' ... ')\n",
    "    img_ = Image.open(PATH + file)\n",
    "    nf = img_.n_frames\n",
    "    h = img_.height\n",
    "    w = img_.width\n",
    "    tmp_img = np.zeros((nf,h,w),dtype=np.float)\n",
    "    for f in range(nf):\n",
    "        img_.seek(f)\n",
    "        tmp_img[f,:,:] = np.asarray(list(img_.getdata())).reshape(h,w)\n",
    "    min_max_list.append((np.min(tmp_img), np.max(tmp_img)))\n",
    "    mean_img = np.mean(tmp_img,axis=0)\n",
    "    mean_img_list.append(mean_img)\n",
    "    img_mask = (mean_img>(np.mean(mean_img)+np.std(mean_img))).astype(float)\n",
    "    cy = sum(img_mask.T @ np.arange(h))/np.sum(img_mask)\n",
    "    cx = sum(img_mask   @ np.arange(w))/np.sum(img_mask)\n",
    "    center = (cy, cx)\n",
    "    center_list.append(center)\n",
    "    tmp = np.nonzero(img_mask)\n",
    "    cell_height, cell_width = (max(tmp[i]) - min(tmp[i]) for i in range(2))\n",
    "    cell_radius = np.mean([cell_height,cell_width])/2\n",
    "    radius_list.append(cell_radius)\n",
    "    r = cell_radius - edge_param*crop_width/2\n",
    "    crop_cent = []\n",
    "    for i in range(num_angles):\n",
    "        crop_cent.append((np.int(center[0]+r*np.sin(2*np.pi*i/num_angles)), \n",
    "                          np.int(center[1]+r*np.cos(2*np.pi*i/num_angles))))\n",
    "    for t, l in crop_cent:\n",
    "        for mirror in iter([False,True]):\n",
    "            for k in range(4):\n",
    "                for f in range(nf):\n",
    "                    img_.seek(f)\n",
    "                    out = img_.crop((l-crop_width//2,\n",
    "                                     t-crop_width//2,\n",
    "                                     l+crop_width//2,\n",
    "                                     t+crop_width//2))\n",
    "                    if mirror: out = out.transpose(Image.FLIP_TOP_BOTTOM) #left_right doesn't work\n",
    "                    for _ in range(k):\n",
    "                        out = out.rotate(90) #rotate(180) doesn't work\n",
    "                    out.save(OUT_PATH + f'{out_file_counter:08d}.tif')\n",
    "                    out_file_counter += 1\n",
    "    print('Done')"
   ]
  },
  {
   "cell_type": "code",
   "execution_count": 5,
   "metadata": {},
   "outputs": [
    {
     "name": "stdout",
     "output_type": "stream",
     "text": [
      "D:\\Code\\kural_work\\movie_generation\\data\\IMAGES\\\\000234.tif\n"
     ]
    }
   ],
   "source": [
    "tmp = 234\n",
    "print(OUT_PATH+f'{tmp:06d}.tif')"
   ]
  },
  {
   "cell_type": "code",
   "execution_count": 55,
   "metadata": {},
   "outputs": [],
   "source": [
    "img = np.stack(img)"
   ]
  },
  {
   "cell_type": "code",
   "execution_count": 57,
   "metadata": {},
   "outputs": [],
   "source": [
    "img = img/(2**16-1)"
   ]
  },
  {
   "cell_type": "code",
   "execution_count": 58,
   "metadata": {
    "scrolled": true
   },
   "outputs": [],
   "source": [
    "with open(PATH + 'img_data.pickle', 'wb') as f:\n",
    "    pickle.dump(img, f)"
   ]
  },
  {
   "cell_type": "code",
   "execution_count": null,
   "metadata": {},
   "outputs": [],
   "source": [
    "with open(PATH + 'img_data.pickle', 'rb') as f:\n",
    "    img = pickle.load(f)"
   ]
  }
 ],
 "metadata": {
  "kernelspec": {
   "display_name": "Python 3",
   "language": "python",
   "name": "python3"
  },
  "language_info": {
   "codemirror_mode": {
    "name": "ipython",
    "version": 3
   },
   "file_extension": ".py",
   "mimetype": "text/x-python",
   "name": "python",
   "nbconvert_exporter": "python",
   "pygments_lexer": "ipython3",
   "version": "3.7.3"
  }
 },
 "nbformat": 4,
 "nbformat_minor": 2
}
