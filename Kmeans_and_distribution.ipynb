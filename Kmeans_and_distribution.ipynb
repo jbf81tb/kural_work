{
 "cells": [
  {
   "cell_type": "code",
   "execution_count": 1,
   "metadata": {},
   "outputs": [],
   "source": [
    "%reload_ext autoreload\n",
    "%autoreload 2\n",
    "%matplotlib inline\n",
    "\n",
    "import numpy as np\n",
    "import matplotlib.pyplot as plt\n",
    "import torch\n",
    "from PIL import Image\n",
    "from scipy.signal import convolve2d\n",
    "from skimage.measure import block_reduce\n",
    "\n",
    "PATH = r'D:\\Code\\kural_work\\movie_generation\\data\\\\'"
   ]
  },
  {
   "cell_type": "code",
   "execution_count": null,
   "metadata": {},
   "outputs": [],
   "source": [
    "img_ = Image.open(PATH+'s01_5m_2s_100ms_25p.tif')\n",
    "nf = img_.n_frames\n",
    "movie_data = np.zeros((nf,512*512))\n",
    "for f in range(nf):\n",
    "    img_.seek(f)\n",
    "    movie_data[f,:] = np.asarray(list(img_.getdata()))"
   ]
  }
 ],
 "metadata": {
  "kernelspec": {
   "display_name": "Python 3",
   "language": "python",
   "name": "python3"
  },
  "language_info": {
   "codemirror_mode": {
    "name": "ipython",
    "version": 3
   },
   "file_extension": ".py",
   "mimetype": "text/x-python",
   "name": "python",
   "nbconvert_exporter": "python",
   "pygments_lexer": "ipython3",
   "version": "3.6.8"
  }
 },
 "nbformat": 4,
 "nbformat_minor": 2
}
