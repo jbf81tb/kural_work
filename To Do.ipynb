{
 "cells": [
  {
   "cell_type": "markdown",
   "metadata": {},
   "source": [
    "# To Do\n",
    "1. Get fully fleshed and varied dataset with proper holdout and validation datasets.\n",
    "  1. Start with the movies I have\n",
    "  2. See if I can pull from the server.\n",
    "2. See why the GPU isn't getting used that much...\n",
    "2. Build a fitting function that encorporates K-fold cross validation\n",
    "3. Model expansion\n",
    "  1. More frames to RNN\n",
    "  2. RNN training with some amount of feed-forward training.\n",
    "  3. Model for mixing crops into a full sided image because edge artifacts make for kinda gross images.\n",
    "4. Model fine tuning\n",
    "  * This isn't really important because the model should really only need to be trained once. So as long as it trains satisfactorily to produce reasonable output for any input, that's all that matters.\n",
    "\n",
    "\n",
    "\n",
    "## Two Model Approaches\n",
    "1. Linear Model\n",
    "  * Stacks of NxN matrices for non-linear combinations\n",
    "  * Model might be very big.\n",
    "2. Convolutional Model\n",
    "  * Need a full dataset"
   ]
  },
  {
   "cell_type": "markdown",
   "metadata": {},
   "source": [
    "# K-means model todo\n",
    "* Dataset\n",
    "  * cell crop on each movie\n",
    "  * k-means using full movie cell crop\n",
    "  * express full movie using clusters\n",
    "  * get edge and center crops of each movie\n",
    "  * no transforms\n",
    "  * use a 4x4 max pool (block_reduce)\n",
    "  * convert and store as uint8\n",
    "* Model (maybe the model should focus on one pixel at a time?)\n",
    "  * clips are 32x32\n",
    "  * covert to float and divide by 2\n",
    "  * flatten\n",
    "  * 1-to-1 embedding for pixel values\n",
    "  * reshape into image shape\n",
    "  * rnn for each pixel using conv2d with kernel_size=1\n",
    "  * output should be catergory \\[background, membrane, or pit\\]\n",
    "  * categorical cross entropy loss?"
   ]
  }
 ],
 "metadata": {
  "kernelspec": {
   "display_name": "Python 3",
   "language": "python",
   "name": "python3"
  },
  "language_info": {
   "codemirror_mode": {
    "name": "ipython",
    "version": 3
   },
   "file_extension": ".py",
   "mimetype": "text/x-python",
   "name": "python",
   "nbconvert_exporter": "python",
   "pygments_lexer": "ipython3",
   "version": "3.6.8"
  }
 },
 "nbformat": 4,
 "nbformat_minor": 2
}
